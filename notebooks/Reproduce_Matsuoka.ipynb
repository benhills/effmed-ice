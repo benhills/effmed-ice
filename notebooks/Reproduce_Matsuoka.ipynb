{
 "cells": [
  {
   "cell_type": "markdown",
   "id": "0f106385-d28b-455e-8ec7-cf3d0134ebda",
   "metadata": {},
   "source": [
    "# Reproduce results from Matsuoka et al. (2009)\n",
    "\n",
    "This article focuses on oblique wave propagation through anisotropic ice. The results are plotted as a power differential (i.e., birefringent power losses) but the model can be used to calculate phase in the same way it has been used for non-oblique waves.\n",
    "\n",
    "Reference:\n",
    "\n",
    "Matsuoka, K., Wilen, L., Hurley, S. P., & Raymond, C. F. (2009). Effects of birefringence within ice sheets on obliquely propagating radio waves. IEEE Transactions on Geoscience and Remote Sensing, 47 (5), 1429–1443. doi: 10.1109/TGRS.2008.2005201"
   ]
  },
  {
   "cell_type": "code",
   "execution_count": null,
   "id": "658b1c92-bde9-461e-baff-b55b61d20800",
   "metadata": {
    "tags": []
   },
   "outputs": [],
   "source": [
    "import numpy as np\n",
    "import matplotlib.pyplot as plt\n",
    "%matplotlib notebook\n",
    "\n",
    "from effmed.lib.matrix_model import effective_medium\n",
    "from effmed.lib.supplemental import dB\n",
    "\n",
    "%matplotlib inline"
   ]
  },
  {
   "cell_type": "code",
   "execution_count": null,
   "id": "fc9e30e3-c13d-4487-b37c-fedff8bc7b2b",
   "metadata": {},
   "outputs": [],
   "source": [
    "### Some constants are fixed for all model realizations in this particular figure\n",
    "\n",
    "# geometry in the vertical\n",
    "d = 1e3\n",
    "dz = 1e3\n",
    "\n",
    "# azimuthal rotation of the material anisotropy\n",
    "ψ = [90.*np.pi/180.]\n",
    "# range of orientations of the instrument based on antenna offset and rotation\n",
    "θw,ψw = np.meshgrid(np.linspace(0,40,200)*np.pi/180.,np.linspace(0,90,200)*np.pi/180.)\n",
    "\n",
    "# get the amplitude of the returned signal as in Matsuoka et al. (2009)\n",
    "def matsuoka_amp_return(em,idctx,θ,χ,fc,\n",
    "                        θw=θw,ψw=ψw,\n",
    "                        d=d,dz=dz,ψ=ψ):\n",
    "    # empty array to fill\n",
    "    AMP = np.empty_like(θw)\n",
    "    for i in range(len(θw)):\n",
    "        for j in range(len(θw[0])):\n",
    "            # assign instrument properties to the model\n",
    "            em.system_setup(fc=fc, psi_w=ψw[i,j], theta_w=θw[i,j])\n",
    "            # assign material properties to the model\n",
    "            em.ice_properties(idctx=idctx,theta=θ[0],psi=ψ[0],chi=χ[0])\n",
    "            # solve hte model\n",
    "            em.single_depth_solve(d,[dz],θ,ψ,χ,gamma=[1., 1.],idctx=idctx)\n",
    "            # assign the real component to the output array\n",
    "            AMP[i,j] = np.real(10.*np.log10(em.S[0,0]**2.))\n",
    "    return AMP\n",
    "\n",
    "# plot a figure with separate panels as in Matsuoka et al. (2009)\n",
    "def plot_matsuoka_output(idctx,fcs,θs,χs,ψ=ψ):\n",
    "    \n",
    "    plt.figure(figsize=(12,6))\n",
    "    # eight subpanels\n",
    "    for ii in range(8):\n",
    "        # instantiate the model class\n",
    "        em = effective_medium()\n",
    "        # get the zenith orientations of the material\n",
    "        θ = θs[ii]*np.pi/180.\n",
    "        # calculate the returning amplitude with the prior function\n",
    "        AMP = matsuoka_amp_return(em,idctx,[θ],np.array([χs[ii]]),fcs[ii])\n",
    "        # plot the result\n",
    "        ax = plt.subplot(2,4,ii+1)\n",
    "        plt.pcolormesh(ψw*180./np.pi,θw*180./np.pi,AMP,cmap='Greys_r', vmin=-5,vmax=0)\n",
    "        if ii == 4:\n",
    "            plt.xlabel('Azimuth Angle (deg)')\n",
    "            plt.ylabel('Polar Angle (deg)')\n",
    "    plt.tight_layout()"
   ]
  },
  {
   "cell_type": "code",
   "execution_count": null,
   "id": "2d75ff64-3444-4585-a903-2b6220f64d8d",
   "metadata": {
    "tags": []
   },
   "outputs": [],
   "source": [
    "### Figure 6 top rows\n",
    "\n",
    "# center frequencies\n",
    "fcs = [1e8,5e8,1e9,2e9,1e8,5e8,1e9,2e9]\n",
    "# zenith tilts\n",
    "θs = [5,5,5,5,10,10,10,10]\n",
    "# COF eigenvalues\n",
    "χ = np.array([[0,0,1]])\n",
    "χs = np.tile(χ,(8,1))\n",
    "\n",
    "plot_matsuoka_output('uniaxial',fcs,θs,χs)"
   ]
  },
  {
   "cell_type": "code",
   "execution_count": null,
   "id": "3dbcef09-ed4d-4b2b-aeed-d8c398dc07a0",
   "metadata": {
    "tags": []
   },
   "outputs": [],
   "source": [
    "### Figure 6 bottom rows\n",
    "\n",
    "plt.figure(figsize=(12,6))\n",
    "\n",
    "# center frequencies\n",
    "fcs = [1e8,5e8,1e9,2e9,1e8,5e8,1e9,2e9]\n",
    "# zenith tilts\n",
    "θs = np.zeros(8)\n",
    "# magnitude of anisotropy (biaxial)\n",
    "dχs = [.025,.025,.025,.025,.1,.1,.1,.1]\n",
    "# loop through all the anisotropy magnitudes to get eigenvalues for biaxial\n",
    "χs = np.empty((8,3))\n",
    "for ii in range(8):\n",
    "    χs[ii] = np.array([(.3+dχs[ii])/2.,(.3-dχs[ii])/2.,0.7])\n",
    "\n",
    "plot_matsuoka_output('biaxial',fcs,θs,χs)"
   ]
  }
 ],
 "metadata": {
  "kernelspec": {
   "display_name": "Python 3 (ipykernel)",
   "language": "python",
   "name": "python3"
  },
  "language_info": {
   "codemirror_mode": {
    "name": "ipython",
    "version": 3
   },
   "file_extension": ".py",
   "mimetype": "text/x-python",
   "name": "python",
   "nbconvert_exporter": "python",
   "pygments_lexer": "ipython3",
   "version": "3.11.8"
  },
  "widgets": {
   "application/vnd.jupyter.widget-state+json": {
    "state": {},
    "version_major": 2,
    "version_minor": 0
   }
  }
 },
 "nbformat": 4,
 "nbformat_minor": 5
}
