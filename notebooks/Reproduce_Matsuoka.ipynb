{
 "cells": [
  {
   "cell_type": "markdown",
   "id": "0f106385-d28b-455e-8ec7-cf3d0134ebda",
   "metadata": {},
   "source": [
    "## Reproduce Matsuoka (2009)"
   ]
  },
  {
   "cell_type": "code",
   "execution_count": null,
   "id": "658b1c92-bde9-461e-baff-b55b61d20800",
   "metadata": {
    "tags": []
   },
   "outputs": [],
   "source": [
    "# Standard imports\n",
    "import numpy as np\n",
    "import matplotlib.pyplot as plt\n",
    "%matplotlib inline\n",
    "\n",
    "# Effective medium model imports\n",
    "from effmed.lib.matrix_model import effective_medium\n",
    "from effmed.lib.supplemental import dB"
   ]
  },
  {
   "cell_type": "markdown",
   "id": "cfc9d161-a731-41bd-a697-23cef838b6c2",
   "metadata": {},
   "source": [
    "## Uniaxial; single-pole COFs (Figure 6 top rows)"
   ]
  },
  {
   "cell_type": "code",
   "execution_count": null,
   "id": "2d75ff64-3444-4585-a903-2b6220f64d8d",
   "metadata": {
    "tags": []
   },
   "outputs": [],
   "source": [
    "plt.figure(figsize=(12,6))\n",
    "\n",
    "# center frequencies for each subpanel in the figure\n",
    "fcs = [1e8,5e8,1e9,2e9,1e8,5e8,1e9,2e9]\n",
    "# COF polar angles for each subpanel in the figure\n",
    "θs = [5,5,5,5,10,10,10,10]\n",
    "\n",
    "# separate model case for all 8 subplanels\n",
    "for pi in range(8):\n",
    "\n",
    "    # initialize the model\n",
    "    em = effective_medium()\n",
    "\n",
    "    # get the COF polar and azimuthal angles\n",
    "    θ = [θs[pi]*np.pi/180.]\n",
    "    ψ = [90.*np.pi/180.]\n",
    "    θw,ψw = np.meshgrid(np.linspace(0,40,200)*np.pi/180.,np.linspace(0,90,200)*np.pi/180.)\n",
    "\n",
    "    # center frequency\n",
    "    fc = fcs[pi]\n",
    "    \n",
    "    # propagated distance\n",
    "    d = 1e3\n",
    "    dz = 1e3\n",
    "    \n",
    "    # COF eigenvalues\n",
    "    λ = np.array([[0,0,1]])\n",
    "\n",
    "    # loop through all polar and azimuthal angles to get the birefrengent loss\n",
    "    AMP = np.empty_like(θw)\n",
    "    for i in range(len(θw)):\n",
    "        for j in range(len(θw[0])):\n",
    "            em.system_setup(fc=fc, psi_w=ψw[i,j], theta_w=θw[i,j])\n",
    "            em.ice_properties(idctx='uniaxial',theta=θ[0],psi=ψ[0],lam=λ[0])\n",
    "            em.single_depth_solve(d,[dz],θ,ψ,λ,gamma=[1., 1.],idctx='uniaxial')\n",
    "            AMP[i,j] = np.real(10.*np.log10(em.S[0,0]**2.))\n",
    "        \n",
    "    # plot the result\n",
    "    ax = plt.subplot(2,4,pi+1)\n",
    "    plt.pcolormesh(ψw*180./np.pi,θw*180./np.pi,AMP,cmap='Greys_r', vmin=-5,vmax=0)\n",
    "\n",
    "    # only label some of the subpanels\n",
    "    if pi == 4:\n",
    "        plt.xlabel('Azimuth Angle (deg)')\n",
    "        plt.ylabel('Polar Angle (deg)')\n",
    "        \n",
    "plt.tight_layout()"
   ]
  },
  {
   "cell_type": "markdown",
   "id": "e35df2a9-b540-447e-8e66-f9ecfb88fa70",
   "metadata": {},
   "source": [
    "## Biaxial; girdle COFs (Figure 6 bottom rows)"
   ]
  },
  {
   "cell_type": "code",
   "execution_count": null,
   "id": "3dbcef09-ed4d-4b2b-aeed-d8c398dc07a0",
   "metadata": {
    "tags": []
   },
   "outputs": [],
   "source": [
    "plt.figure(figsize=(12,6))\n",
    "\n",
    "# center frequencies for each subpanel in the figure\n",
    "fcs = [1e8,5e8,1e9,2e9,1e8,5e8,1e9,2e9]\n",
    "# COF polar angles for each subpanel in the figure\n",
    "dλs = [.025,.025,.025,.025,.1,.1,.1,.1]\n",
    "\n",
    "# separate model case for all 8 subplanels\n",
    "for pi in range(8):\n",
    "\n",
    "    # initialize the model\n",
    "    em = effective_medium()\n",
    "\n",
    "    # get the COF polar and azimuthal angles\n",
    "    θ = 0.*np.pi/180.\n",
    "    ψ = 90.*np.pi/180.\n",
    "    θw,ψw = np.meshgrid(np.linspace(0,40,200)*np.pi/180.,np.linspace(0,90,200)*np.pi/180.)\n",
    "\n",
    "    # center frequency \n",
    "    fc = fcs[pi]\n",
    "    \n",
    "    # propagated distance\n",
    "    d = 1e3\n",
    "    dz = 1e3\n",
    "    \n",
    "    # COF eigenvalues\n",
    "    λ = np.array([(.3+dλs[pi])/2.,(.3-dλs[pi])/2.,0.7])\n",
    "\n",
    "    # loop through all polar and azimuthal angles to get the birefrengent loss\n",
    "    AMP = np.empty_like(θw)\n",
    "    for i in range(len(θw)):\n",
    "        for j in range(len(θw[0])):\n",
    "            em.system_setup(fc=fc, psi_w=ψw[i,j], theta_w=θw[i,j])\n",
    "            em.ice_properties(idctx='biaxial',lam=λ, epsr=3.152, T=320)\n",
    "            em.single_depth_solve(d,dz,θ,ψ,λ,gamma=[1., 1.],idctx='biaxial')\n",
    "            AMP[i,j] = np.real(10.*np.log10(em.S[0,0]**2.))\n",
    "         \n",
    "    # plot the result\n",
    "    ax = plt.subplot(2,4,pi+1)\n",
    "    plt.pcolormesh(ψw*180./np.pi,θw*180./np.pi,AMP,cmap='Greys_r', vmin=-5,vmax=0)\n",
    "    \n",
    "    # only label some subpanels\n",
    "    if pi == 4:\n",
    "        plt.xlabel('Azimuth Angle (deg)')\n",
    "        plt.ylabel('Polar Angle (deg)')\n",
    "    \n",
    "plt.tight_layout()"
   ]
  }
 ],
 "metadata": {
  "kernelspec": {
   "display_name": "Python 3 (ipykernel)",
   "language": "python",
   "name": "python3"
  },
  "language_info": {
   "codemirror_mode": {
    "name": "ipython",
    "version": 3
   },
   "file_extension": ".py",
   "mimetype": "text/x-python",
   "name": "python",
   "nbconvert_exporter": "python",
   "pygments_lexer": "ipython3",
   "version": "3.8.16"
  },
  "widgets": {
   "application/vnd.jupyter.widget-state+json": {
    "state": {},
    "version_major": 2,
    "version_minor": 0
   }
  }
 },
 "nbformat": 4,
 "nbformat_minor": 5
}
