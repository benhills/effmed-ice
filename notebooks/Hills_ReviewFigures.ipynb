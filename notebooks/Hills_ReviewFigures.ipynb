{
 "cells": [
  {
   "cell_type": "code",
   "execution_count": null,
   "id": "a178c84b-1dfb-4b7d-998b-618b15ef0ecb",
   "metadata": {
    "tags": []
   },
   "outputs": [],
   "source": [
    "import numpy as np\n",
    "import matplotlib.pyplot as plt\n",
    "\n",
    "# Impdar is a dependency here: download from https://github.com/dlilien/ImpDAR\n",
    "from impdar.lib.ApresData.load_quadpol import load_quadpol_fujita\n",
    "from impdar.lib.ApresData._QuadPolProcessing import power_anomaly, lowpass\n",
    "\n",
    "%matplotlib notebook\n",
    "\n",
    "from effmed.lib.matrix_model import effective_medium\n",
    "from effmed.lib.supplemental import dB, fresnel"
   ]
  },
  {
   "cell_type": "markdown",
   "id": "8d3c8b93-b053-472d-8d46-846483e6449d",
   "metadata": {},
   "source": [
    "### Example 1: Uniform"
   ]
  },
  {
   "cell_type": "code",
   "execution_count": null,
   "id": "2674db1f-b8cb-47da-812a-d63a7fa935f8",
   "metadata": {
    "tags": []
   },
   "outputs": [],
   "source": [
    "em = effective_medium()\n",
    "\n",
    "fc = 300e6\n",
    "em.system_setup(fc)\n",
    "\n",
    "Temp = 253.\n",
    "epsr = 3.15\n",
    "em.epsr = epsr\n",
    "chis = [.35,.15,0.5]\n",
    "em.ice_properties(T=Temp,epsr=epsr,chi=chis)\n",
    "\n",
    "H = 1000\n",
    "zs = np.arange(10,H)\n",
    "thetas=0.\n",
    "psis = 0.\n",
    "em.solve(zs,H,thetas,psis,chis)\n",
    "\n",
    "dat1 = load_quadpol_fujita(em)\n",
    "dat1.rotational_transform(n_thetas=201)\n",
    "dat1.find_cpe()\n",
    "dat1.coherence2d(.15,2.)"
   ]
  },
  {
   "cell_type": "markdown",
   "id": "46b633eb-8a55-4aae-bbd2-d9aada24291b",
   "metadata": {},
   "source": [
    "### Example 2: Strengthening Girdle"
   ]
  },
  {
   "cell_type": "code",
   "execution_count": null,
   "id": "0ab85156-05c9-45ea-bdd2-42c5951baca2",
   "metadata": {
    "tags": []
   },
   "outputs": [],
   "source": [
    "em = effective_medium()\n",
    "\n",
    "fc = 300e6\n",
    "em.system_setup(fc)\n",
    "\n",
    "Temp = 253.\n",
    "epsr = 3.15\n",
    "em.epsr = epsr\n",
    "chis = [.26,.24,0.5]\n",
    "em.ice_properties(T=Temp,epsr=epsr,chi=chis)\n",
    "\n",
    "H = 1000\n",
    "layer_dz = 2.1\n",
    "zs = np.arange(.1,H+layer_dz,layer_dz)\n",
    "thetas = np.zeros(len(zs))\n",
    "psis = np.zeros(len(zs))\n",
    "dzs = layer_dz*np.ones(len(zs))\n",
    "chi1 = np.linspace(.26,.4,len(zs))\n",
    "chi2 = np.linspace(.24,.1,len(zs))\n",
    "chi3 = chis[2]*np.ones(len(zs))\n",
    "chis = np.transpose([chi1,chi2,chi3])\n",
    "em.solve(zs,dzs,thetas,psis,chis)\n",
    "\n",
    "dat2 = load_quadpol_fujita(em)\n",
    "dat2.rotational_transform(n_thetas=201)\n",
    "dat2.find_cpe()\n",
    "dat2.coherence2d(.15,layer_dz+.1)"
   ]
  },
  {
   "cell_type": "markdown",
   "id": "4b6a2810-fe04-4d31-9a5d-0635938a0663",
   "metadata": {},
   "source": [
    "### Example 3: Anisotropic Reflectivity (no birefringence)"
   ]
  },
  {
   "cell_type": "code",
   "execution_count": null,
   "id": "49d27da3-45d9-4494-b9e7-9d266c364d0d",
   "metadata": {
    "tags": []
   },
   "outputs": [],
   "source": [
    "# Initialize the model at a chosen center frequency\n",
    "em = effective_medium()\n",
    "\n",
    "fc = 300e6\n",
    "em.system_setup(fc)\n",
    "\n",
    "Temp = 253.\n",
    "epsr = 3.15\n",
    "em.epsr = epsr\n",
    "chis = [.333,.333,.333]\n",
    "em.ice_properties(T=Temp,epsr=epsr,chi=chis)\n",
    "\n",
    "H = 1000\n",
    "zs = np.arange(10,H)\n",
    "thetas=0.\n",
    "psis = 0.001\n",
    "gammas = np.array([1.,.01])\n",
    "em.solve(zs,H,thetas,psis,chis,gammas=gammas)\n",
    "\n",
    "dat3 = load_quadpol_fujita(em)\n",
    "dat3.rotational_transform(n_thetas=201)\n",
    "dat3.find_cpe()\n",
    "dat3.coherence2d(.15,layer_dz+.1)"
   ]
  },
  {
   "cell_type": "markdown",
   "id": "b8591564-7e17-4045-8291-1c494a7404f2",
   "metadata": {},
   "source": [
    "### Example 4: Anisotropic Reflectivity (with birefringence)"
   ]
  },
  {
   "cell_type": "code",
   "execution_count": null,
   "id": "4411f1a7-2735-4257-8b48-8d6caab64c00",
   "metadata": {
    "tags": []
   },
   "outputs": [],
   "source": [
    "# Initialize the model at a chosen center frequency\n",
    "em = effective_medium()\n",
    "\n",
    "fc = 300e6\n",
    "em.system_setup(fc)\n",
    "\n",
    "Temp = 253.\n",
    "epsr = 3.15\n",
    "em.epsr = epsr\n",
    "chis = [.35,.15,0.5]\n",
    "em.ice_properties(T=Temp,epsr=epsr,chi=chis)\n",
    "\n",
    "H = 1000\n",
    "zs = np.arange(10,H)\n",
    "thetas=0.\n",
    "psis = 0.\n",
    "gammas = np.array([1.,.2])\n",
    "em.solve(zs,H,thetas,psis,chis,gammas=gammas)\n",
    "\n",
    "dat4 = load_quadpol_fujita(em)\n",
    "dat4.rotational_transform(n_thetas=201)\n",
    "dat4.find_cpe()\n",
    "dat4.coherence2d(.15,2.)"
   ]
  },
  {
   "cell_type": "markdown",
   "id": "983e7973-269e-43ec-822f-606cb75ca08c",
   "metadata": {},
   "source": [
    "### Example 5: Instantaneous Rotation"
   ]
  },
  {
   "cell_type": "code",
   "execution_count": null,
   "id": "b6675f85-4b8b-42e7-9214-a882a9d43c4b",
   "metadata": {
    "tags": []
   },
   "outputs": [],
   "source": [
    "em = effective_medium()\n",
    "\n",
    "fc = 300e6\n",
    "em.system_setup(fc)\n",
    "\n",
    "Temp = 253.\n",
    "epsr = 3.15\n",
    "em.epsr = epsr\n",
    "chis = [.35,.15,0.5]\n",
    "em.ice_properties(T=Temp,epsr=epsr,chi=chis)\n",
    "\n",
    "H = 1000\n",
    "layer_dz = 2.\n",
    "zs = np.arange(1,H,layer_dz)\n",
    "thetas = np.zeros(len(zs))\n",
    "psis5 = np.zeros_like(zs) #.3*np.tanh(.01*(zs-400))+.3\n",
    "psis5[zs>300] = .1*np.pi\n",
    "dzs = layer_dz*np.ones(len(zs))\n",
    "chis = np.tile(chis,(len(zs),1))\n",
    "em.solve(zs,dzs,thetas,psis5,chis)\n",
    "\n",
    "dat5 = load_quadpol_fujita(em)\n",
    "dat5.rotational_transform(n_thetas=201)\n",
    "dat5.find_cpe(Wn=3e7,rad_start=0.1*np.pi,rad_end=.6*np.pi)\n",
    "dat5.coherence2d(.15,layer_dz+.1)"
   ]
  },
  {
   "cell_type": "markdown",
   "id": "06c8d331-8564-45cd-9729-6d994178039b",
   "metadata": {},
   "source": [
    "### Example 6: Continuous Rotation"
   ]
  },
  {
   "cell_type": "code",
   "execution_count": null,
   "id": "e21cae8d-d29d-4fc6-8dcb-d255417ac125",
   "metadata": {
    "tags": []
   },
   "outputs": [],
   "source": [
    "em = effective_medium()\n",
    "\n",
    "fc = 300e6\n",
    "em.system_setup(fc)\n",
    "\n",
    "Temp = 253.\n",
    "epsr = 3.15\n",
    "em.epsr = epsr\n",
    "chis = [.35,.15,0.5]\n",
    "em.ice_properties(T=Temp,epsr=epsr,chi=chis)\n",
    "\n",
    "H = 1000\n",
    "layer_dz = 2.\n",
    "zs = np.arange(1,H,layer_dz)\n",
    "thetas = np.zeros(len(zs))\n",
    "psis6 = .3*np.tanh(.01*(zs-400))+.3\n",
    "dzs = layer_dz*np.ones(len(zs))\n",
    "chis = np.tile(chis,(len(zs),1))\n",
    "em.solve(zs,dzs,thetas,psis6,chis)\n",
    "\n",
    "dat6 = load_quadpol_fujita(em)\n",
    "dat6.rotational_transform(n_thetas=201)\n",
    "dat6.find_cpe(Wn=3e7)\n",
    "dat6.coherence2d(.15,layer_dz+.1)"
   ]
  },
  {
   "cell_type": "markdown",
   "id": "37530c90-de60-4ee4-bc7a-0ded0ff98850",
   "metadata": {},
   "source": [
    "### Plot all examples together"
   ]
  },
  {
   "cell_type": "code",
   "execution_count": null,
   "id": "0157daff-a099-46dc-9a01-48d461018239",
   "metadata": {
    "tags": []
   },
   "outputs": [],
   "source": [
    "%matplotlib inline\n",
    "\n",
    "fig = plt.figure(figsize=(8,7))\n",
    "\n",
    "dats = [dat1,dat2,dat3,dat4,dat5,dat6]\n",
    "labels = ['A','B','C','D','E','F','G','H','I','J','K','L']\n",
    "\n",
    "for i,dat in enumerate(dats):\n",
    "    Θs,Ds = np.meshgrid(dat.thetas,dat.range)\n",
    "\n",
    "    ax1 = plt.subplot(3,4,i*2+1,facecolor='k')\n",
    "    plt.tick_params(labelleft=False)\n",
    "    im1 = plt.pcolormesh(Θs,Ds,np.real(dB(dat.HV**2.)),cmap='Greys_r',vmin=-10,vmax=0.)\n",
    "    ax1.text(0.09,.92,labels[i*2],transform=ax1.transAxes,fontweight='bold',fontsize=10,ha='center',va='center',\n",
    "           bbox=dict(facecolor='w', edgecolor='k', pad=2.0, linewidth=1.))\n",
    "    plt.plot(dat.cpe,Ds,'m.',ms=.5)\n",
    "    if i == 4:\n",
    "        plt.plot(psis5+np.pi/2.,Ds,'.',c='lime',ms=.5)\n",
    "    elif i == 5:\n",
    "        plt.plot(psis6+np.pi/2.,Ds,'.',c='lime',ms=.5)\n",
    "    plt.ylim(1000,0)\n",
    "    plt.xticks([0,np.pi/2.,np.pi])\n",
    "    ax1.set_xticklabels(['','',''])\n",
    "\n",
    "    ax2 = plt.subplot(3,4,i*2+2)\n",
    "    plt.tick_params(labelleft=False)\n",
    "    im2 = plt.pcolormesh(Θs,Ds,np.angle(dat.chhvv),cmap='twilight_shifted',vmin=-np.pi,vmax=np.pi)\n",
    "    ax2.text(0.09,.92,labels[i*2+1],transform=ax2.transAxes,fontweight='bold',fontsize=10,ha='center',va='center',\n",
    "           bbox=dict(facecolor='w', edgecolor='k', pad=2.0, linewidth=1.))\n",
    "    plt.ylim(1000,0)\n",
    "    plt.xticks([0,np.pi/2.,np.pi])\n",
    "    ax2.set_xticklabels(['','',''])\n",
    "\n",
    "# -----------------------------------------------------------------------------------\n",
    "# Colorbars\n",
    "# -----------------------------------------------------------------------------------\n",
    "\n",
    "fig.subplots_adjust(right=0.87)\n",
    "cbar1_ax = fig.add_axes([0.9, 0.55, 0.01, 0.3])\n",
    "cbar2_ax = fig.add_axes([0.9, 0.15, 0.01, 0.3])\n",
    "fig.colorbar(im1,cax=cbar1_ax,label='Cross-Polarized Power (dB)',extend='min',orientation='vertical',ticks=[-10,-5,0])\n",
    "cbar2 = fig.colorbar(im2,cax=cbar2_ax,label='Phase Angle ($\\phi_{HHVV}$)',orientation='vertical',ticks=[-np.pi,0,np.pi])\n",
    "cbar2.ax.set_yticklabels(['-π','0','π'])\n",
    "\n",
    "plt.savefig('eff_med_suite.png',dpi=300)"
   ]
  },
  {
   "cell_type": "markdown",
   "id": "77cbb6c2-cee8-4dcf-afe3-e11572d7890d",
   "metadata": {},
   "source": [
    "### Assign reflectivity with fabric using Fresnel Equations"
   ]
  },
  {
   "cell_type": "code",
   "execution_count": null,
   "id": "8b98300e-6b9b-4748-8062-dcafaa964351",
   "metadata": {
    "tags": []
   },
   "outputs": [],
   "source": [
    "em = effective_medium()\n",
    "\n",
    "fc = 300e6\n",
    "em.system_setup(fc)\n",
    "\n",
    "Temp = 253.\n",
    "epsr = 3.15\n",
    "em.epsr = epsr\n",
    "chis = [.34,.33,.33]\n",
    "em.ice_properties(T=Temp,epsr=epsr,chi=chis)\n",
    "\n",
    "H = 1000\n",
    "layer_dz = 2.1\n",
    "zs = np.arange(.1,H+layer_dz,layer_dz)\n",
    "thetas = np.zeros(len(zs))\n",
    "psis = 0.001 + np.zeros(len(zs))\n",
    "dzs = layer_dz*np.ones(len(zs))\n",
    "chi1 = .375+(1.+np.tanh((zs-400)*.005))/6.\n",
    "chi2 = np.linspace(.25,.15,len(zs))\n",
    "chi3 = 1. - chi1 - chi2\n",
    "chis = np.transpose([chi1,chi2,chi3])\n",
    "gammas = np.transpose([np.ones(len(zs)),fresnel(chis)])\n",
    "em.solve(zs,dzs,thetas,psis,chis,gammas=gammas)\n",
    "\n",
    "dat = load_quadpol_fujita(em)\n",
    "dat.rotational_transform(n_thetas=201)\n",
    "dat.find_cpe(Wn=3e7)\n",
    "dat.coherence2d(.016,5.)"
   ]
  },
  {
   "cell_type": "code",
   "execution_count": null,
   "id": "1d91c6f0-2a30-4e4a-925c-2c1aee7f8e74",
   "metadata": {
    "tags": []
   },
   "outputs": [],
   "source": [
    "Θs,Ds = np.meshgrid(dat.thetas,dat.range)\n",
    "\n",
    "plt.figure(figsize=(6,6))\n",
    "\n",
    "ax1 = plt.subplot(231)\n",
    "plt.tick_params()\n",
    "plt.pcolormesh(Θs,Ds/1000.,np.real(dB(dat.HH**2.)),cmap='Greys_r',vmin=-10,vmax=0.)\n",
    "ax1.text(0.1,.9,'A',transform=ax1.transAxes,fontweight='bold',fontsize=12,ha='center',va='center',\n",
    "       bbox=dict(facecolor='w', edgecolor='k', pad=2.0, linewidth=1.))\n",
    "plt.ylim(1,0)\n",
    "plt.xticks([0,np.pi/2.,np.pi])\n",
    "ax1.set_xticklabels(['0','π/2','π'])\n",
    "plt.xlabel('Azimuth ($\\psi$)')\n",
    "plt.ylabel('Depth (km)')\n",
    "cbar = plt.colorbar(label='Cross-Pol. Power (dB)',extend='min',location='top',ticks=[-10,-5,0])\n",
    "\n",
    "ax2 = plt.subplot(232,facecolor='k')\n",
    "plt.tick_params(labelleft=False)\n",
    "plt.pcolormesh(Θs,Ds,np.real(dB(dat.HV**2.)),cmap='Greys_r',vmin=-10,vmax=0.)\n",
    "ax2.text(0.1,.9,'B',transform=ax2.transAxes,fontweight='bold',fontsize=12,ha='center',va='center',\n",
    "       bbox=dict(facecolor='w', edgecolor='k', pad=2.0, linewidth=1.))\n",
    "plt.plot(dat.cpe,Ds,'m.',ms=.5)\n",
    "plt.ylim(1000,0)\n",
    "plt.xticks([0,np.pi/2.,np.pi])\n",
    "ax2.set_xticklabels(['','',''])\n",
    "#plt.xlabel('Azimuth ($\\psi$)')\n",
    "cbar = plt.colorbar(label='Co-Pol. Power (dB)',extend='min',location='top',ticks=[-10,-5,0])\n",
    "\n",
    "ax3 = plt.subplot(233)\n",
    "plt.tick_params(labelleft=False)\n",
    "plt.pcolormesh(Θs,Ds,np.angle(dat.chhvv),cmap='twilight_shifted',vmin=-np.pi,vmax=np.pi)\n",
    "ax3.text(0.1,.9,'C',transform=ax3.transAxes,fontweight='bold',fontsize=12,ha='center',va='center',\n",
    "       bbox=dict(facecolor='w', edgecolor='k', pad=2.0, linewidth=1.))\n",
    "plt.ylim(1000,0)\n",
    "plt.xticks([0,np.pi/2.,np.pi])\n",
    "ax3.set_xticklabels(['','',''])\n",
    "#plt.xlabel('Azimuth ($\\psi$)')\n",
    "cbar = plt.colorbar(label='Phase Angle ($\\phi_{HHVV}$)',location='top',ticks=[-np.pi,0,np.pi])\n",
    "cbar.ax.set_xticklabels(['-π','0','π'])\n",
    "\n",
    "ax4 = plt.subplot(235)\n",
    "plt.tick_params(labelleft=False)\n",
    "plt.plot(chi1,dat.range,'k',label='$\\lambda_1$')\n",
    "plt.plot(chi2,dat.range,'grey',label='$\\lambda_2$')\n",
    "plt.plot(chi3,dat.range,'lightgrey',label='$\\lambda_3$')\n",
    "ax4.text(0.1,.9,'E',transform=ax4.transAxes,fontweight='bold',fontsize=12,ha='center',va='center',\n",
    "       bbox=dict(facecolor='w', edgecolor='k', pad=2.0, linewidth=1.))\n",
    "plt.ylim(1000,0)\n",
    "plt.legend()\n",
    "plt.xlabel('Eigenvalue')\n",
    "\n",
    "ax5 = plt.subplot(234)\n",
    "plt.tick_params()\n",
    "plt.semilogx(gammas[:,1]/gammas[:,0],dat.range/1000.,'k')\n",
    "ax5.text(0.1,.9,'D',transform=ax5.transAxes,fontweight='bold',fontsize=12,ha='center',va='center',\n",
    "       bbox=dict(facecolor='w', edgecolor='k', pad=2.0, linewidth=1.))\n",
    "plt.ylim(1,0)\n",
    "plt.axvline(1,color='k',ls='--')\n",
    "plt.xlabel('Reflection Ratio')\n",
    "plt.ylabel('Depth (km)')\n",
    "\n",
    "plt.tight_layout()\n",
    "plt.savefig('./Reflection_Ratio_Polarimetry.png',dpi=300)"
   ]
  }
 ],
 "metadata": {
  "kernelspec": {
   "display_name": "Python 3 (ipykernel)",
   "language": "python",
   "name": "python3"
  },
  "language_info": {
   "codemirror_mode": {
    "name": "ipython",
    "version": 3
   },
   "file_extension": ".py",
   "mimetype": "text/x-python",
   "name": "python",
   "nbconvert_exporter": "python",
   "pygments_lexer": "ipython3",
   "version": "3.11.5"
  }
 },
 "nbformat": 4,
 "nbformat_minor": 5
}
