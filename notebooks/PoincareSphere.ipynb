{
 "cells": [
  {
   "cell_type": "markdown",
   "id": "f392f3b5-90a8-4b4a-86c4-00498183d3d2",
   "metadata": {},
   "source": [
    "# Visualizing polarization states on the Poincaré Sphere\n",
    "\n",
    "This is an vizualization tool commonly used to represent polarization states. It has not been broadly adopted in the radioglaciology literature, but in our review we present it in Appendix C as an alternative. Here, we reproduce the figures shown there as well as a few others.\n",
    "\n",
    "Poincaré, H. (1892). Théorie mathématique de la lumiére, vol. 2 (georges carré, paris). MI MISHCHENKO AND LD TRAVIS, 44."
   ]
  },
  {
   "cell_type": "code",
   "execution_count": null,
   "id": "5424c238-2b63-4b0b-8117-6f7a5678a169",
   "metadata": {
    "tags": []
   },
   "outputs": [],
   "source": [
    "import numpy as np\n",
    "import matplotlib.pyplot as plt\n",
    "from matplotlib import cm\n",
    "\n",
    "from effmed.lib.matrix_model import effective_medium\n",
    "from impdar.lib.ApresData.load_quadpol import load_quadpol_fujita\n",
    "\n",
    "%matplotlib inline"
   ]
  },
  {
   "cell_type": "code",
   "execution_count": null,
   "id": "13b9121c-2d5d-4dfe-928e-4dcb69d4a12f",
   "metadata": {
    "tags": []
   },
   "outputs": [],
   "source": [
    "def model(zs,dzs,chis,\n",
    "          psis=0.001,thetas=0.,\n",
    "          gammas=None,\n",
    "          fc = 300e6, Temp = 253., epsr = 3.15):\n",
    "    # instantiate the model\n",
    "    em = effective_medium()\n",
    "    # system properties\n",
    "    em.system_setup(fc)\n",
    "    # material properties\n",
    "    em.epsr = epsr\n",
    "    em.ice_properties(T=Temp,epsr=epsr,chi=chis[0])\n",
    "    # solve the model with a unique case if there is only one layer\n",
    "    if len(chis) == 1:\n",
    "        em.solve(zs,dzs,thetas,psis,chis[0],gammas=gammas)\n",
    "    else:\n",
    "        em.solve(zs,dzs,thetas,psis,chis,gammas=gammas)\n",
    "    return em\n",
    "\n",
    "def get_poincare_sphere(em):\n",
    "    # load the model output as an ImpDAR object\n",
    "    dat = load_quadpol_fujita(em)\n",
    "    # rotate through azimuths\n",
    "    dat.rotational_transform(n_thetas=401)\n",
    "\n",
    "    # calculate ellipse phase delay\n",
    "    ϕHH = np.angle(dat.HH)\n",
    "    ϕHV = np.angle(dat.HV)\n",
    "    ϕ = ϕHH-ϕHV\n",
    "    ϕ[ϕ<-np.pi] += 2.*np.pi\n",
    "    ϕ[ϕ>np.pi] -= 2.*np.pi\n",
    "\n",
    "    # calculate ellipse rotation\n",
    "    E0x = abs(dat.HH)\n",
    "    E0y = abs(dat.HV)\n",
    "    γ = np.arctan(E0y/E0x)\n",
    "\n",
    "    # get coordinates on the sphere\n",
    "    S1 = E0x**2. - E0y**2.\n",
    "    S2 = 2.*E0x*E0y*np.cos(ϕ)\n",
    "    S3 = 2.*E0x*E0y*np.sin(ϕ)\n",
    "    \n",
    "    return S1,S2,S3"
   ]
  },
  {
   "cell_type": "code",
   "execution_count": null,
   "id": "fb583cbf-c67f-4a3f-bcd5-f2ac67fc7e53",
   "metadata": {
    "tags": []
   },
   "outputs": [],
   "source": [
    "### Create a wireframe grid and plot it as a reference \n",
    "\n",
    "# mesh the grid\n",
    "u, v = np.mgrid[0:2*np.pi+.01:np.pi/10, 0:np.pi:25j]\n",
    "x = np.cos(u)*np.sin(v)\n",
    "y = np.sin(u)*np.sin(v)\n",
    "z = np.cos(v)\n",
    "\n",
    "# plot sphere\n",
    "plt.figure()\n",
    "ax = plt.subplot(111,projection='3d')\n",
    "ax.plot_wireframe(y, z, x, color=\"k\", alpha=0.1)\n",
    "plt.axis('equal')\n",
    "plt.axis('off')\n",
    "\n",
    "# find and plot the linear polarization states\n",
    "N = 100\n",
    "ts = np.linspace(0,2*np.pi,N)\n",
    "xx = np.cos(ts)\n",
    "yy = np.sin(ts)\n",
    "zz = np.zeros(N)\n",
    "plt.plot(xx,yy,zz,c='grey')\n",
    "plt.plot([1,-1,0,0],[0,0,-1,1],[0,0,0,0],'k.')"
   ]
  },
  {
   "cell_type": "code",
   "execution_count": null,
   "id": "5a56fb81-5508-4f24-9f74-9c1f37f13546",
   "metadata": {
    "tags": []
   },
   "outputs": [],
   "source": [
    "### Three representative model scenarios \n",
    "\n",
    "# geometry for all\n",
    "H = 1000.\n",
    "zs = np.arange(10,H)\n",
    "\n",
    "# birefringence no anisotropic scattering\n",
    "chis = np.array([[.1,0.0,0.9]])\n",
    "em1 = model(zs,H,chis)\n",
    "\n",
    "# anisotropic scattering no birefringence \n",
    "chis = np.array([[.333,.333,.333]])\n",
    "gammas = np.array([1,.2])\n",
    "em2 = model(zs,H,chis,gammas=gammas)\n",
    "\n",
    "# both birefringence and anisotropic scattering\n",
    "chis = np.array([[.35,.15,0.5]])\n",
    "gammas = np.array([1,.2])\n",
    "em3 = model(zs,H,chis,gammas=gammas)"
   ]
  },
  {
   "cell_type": "code",
   "execution_count": null,
   "id": "d620ac86-e3cb-42f1-9fd8-2c4ea9ce1a16",
   "metadata": {
    "tags": []
   },
   "outputs": [],
   "source": [
    "### Plot all three model scenarios calculated in the previous cell onto the Poincare sphere\n",
    "\n",
    "plt.figure(figsize=(12,4))\n",
    "ax1 = plt.subplot(131,projection='3d')\n",
    "ax2 = plt.subplot(132,projection='3d')\n",
    "ax3 = plt.subplot(133,projection='3d')\n",
    "\n",
    "ems = [em1,em2,em3]\n",
    "axs = [ax1,ax2,ax3]\n",
    "\n",
    "for i in range(3):\n",
    "    em = ems[i]\n",
    "    ax = axs[i]\n",
    "    ax.plot_wireframe(y, z, x, color=\"k\", alpha=0.025)\n",
    "    S1, S2, S3 = get_poincare_sphere(em)\n",
    "    if i == 0:\n",
    "        for pi in range(0,len(S1[0])//2+2,20):\n",
    "            ax.plot(S2[:,pi],-S1[:,pi],S3[:,pi],lw=1,c=cm.twilight_shifted(pi/200))\n",
    "    elif i == 1:\n",
    "        for pi in range(0,len(S1[0]),20):\n",
    "            ax.plot(S2[0,pi],-S1[0,pi],S3[0,pi],'.',ms=3.5,c=cm.twilight_shifted(pi/400))\n",
    "    elif i == 2:\n",
    "        for pi in range(len(S1[0])-1,-1,-20):\n",
    "            ax.plot(S2[:,pi],-S1[:,pi],S3[:,pi],lw=1,c=cm.twilight_shifted(pi/400))\n",
    "    ax.axis('equal')\n",
    "    ax.axis('off')"
   ]
  },
  {
   "cell_type": "code",
   "execution_count": null,
   "id": "b2acaa5a-93cb-4f12-aad6-841ff5fb3ae4",
   "metadata": {
    "tags": []
   },
   "outputs": [],
   "source": [
    "### A fourth model scenario, now with an azimuthal rotation at some depth\n",
    "\n",
    "# geometry needs to be discretized now\n",
    "layer_dz = 2.\n",
    "zs = np.arange(1,H,layer_dz)\n",
    "dzs = layer_dz*np.ones(len(zs))\n",
    "\n",
    "# instantaneous rotation by 0.1*pi at 300 m depth\n",
    "psis = np.zeros_like(zs)\n",
    "psis[zs>300] = .1*np.pi\n",
    "\n",
    "# still no oblique propagation (theta=0) and COF eigenvalues are same as in scenario #3\n",
    "thetas = np.zeros(len(zs))\n",
    "chis = np.array([[.35,.15,0.5]])\n",
    "chis = np.tile(chis,(len(zs),1))\n",
    "\n",
    "# run model\n",
    "em4 = model(zs,dzs,chis,psis,thetas)"
   ]
  },
  {
   "cell_type": "code",
   "execution_count": null,
   "id": "d57a3b0a-ece2-4305-9476-b45e24df2a28",
   "metadata": {
    "tags": []
   },
   "outputs": [],
   "source": [
    "### Again, plot on the poincare sphere, now choosing specific azimuths in each subpanel\n",
    "# colored lines are before rotation and gray after\n",
    "\n",
    "S1, S2, S3 = get_poincare_sphere(em4)\n",
    "\n",
    "plt.figure(figsize=(12,4))\n",
    "ax1 = plt.subplot(131,projection='3d')\n",
    "ax2 = plt.subplot(132,projection='3d')\n",
    "ax3 = plt.subplot(133,projection='3d')\n",
    "axs = [ax1,ax2,ax3]\n",
    "\n",
    "tis = [70,110,130]\n",
    "\n",
    "for i in range(3):\n",
    "    ax = axs[i]\n",
    "    ti = tis[i]\n",
    "    \n",
    "    ax.plot(S2[:150,ti],-S1[:150,ti],S3[:150,ti],lw=2,c=cm.twilight_shifted(ti/200))\n",
    "    ax.plot(S2[150:,ti],-S1[150:,ti],S3[150:,ti],lw=2,c='grey')\n",
    "    ax.plot(S2[150,ti],-S1[150,ti],S3[150,ti],'.',ms=10,mew=2,mfc='w',c='grey')\n",
    "\n",
    "    ax.plot_wireframe(y, z, x, color=\"k\", alpha=0.025)\n",
    "    ax.axis('equal')\n",
    "    ax.axis('off')"
   ]
  }
 ],
 "metadata": {
  "kernelspec": {
   "display_name": "Python 3 (ipykernel)",
   "language": "python",
   "name": "python3"
  },
  "language_info": {
   "codemirror_mode": {
    "name": "ipython",
    "version": 3
   },
   "file_extension": ".py",
   "mimetype": "text/x-python",
   "name": "python",
   "nbconvert_exporter": "python",
   "pygments_lexer": "ipython3",
   "version": "3.11.8"
  },
  "widgets": {
   "application/vnd.jupyter.widget-state+json": {
    "state": {},
    "version_major": 2,
    "version_minor": 0
   }
  }
 },
 "nbformat": 4,
 "nbformat_minor": 5
}
