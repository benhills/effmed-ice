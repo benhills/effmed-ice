{
 "cells": [
  {
   "cell_type": "markdown",
   "id": "cedf71d4-854c-4421-8bbf-9b75d1e04241",
   "metadata": {},
   "source": [
    "# Poincare Sphere Visualizations"
   ]
  },
  {
   "cell_type": "code",
   "execution_count": null,
   "id": "5424c238-2b63-4b0b-8117-6f7a5678a169",
   "metadata": {
    "tags": []
   },
   "outputs": [],
   "source": [
    "# Standard imports\n",
    "import numpy as np\n",
    "import matplotlib.pyplot as plt\n",
    "from matplotlib import cm\n",
    "%matplotlib inline\n",
    "\n",
    "# Effective medium model imports\n",
    "from effmed.lib.matrix_model import effective_medium\n",
    "from effmed.lib.supplemental import dB, rotational_transform, coherence"
   ]
  },
  {
   "cell_type": "code",
   "execution_count": null,
   "id": "13b9121c-2d5d-4dfe-928e-4dcb69d4a12f",
   "metadata": {
    "tags": []
   },
   "outputs": [],
   "source": [
    "# Define a function to get vectors \n",
    "\n",
    "def get_poincare_sphere(em):\n",
    "    \n",
    "    # Component wave amplitudes\n",
    "    E0x = abs(em.HH)\n",
    "    E0y = abs(em.HV)\n",
    "    # Component phase\n",
    "    ϕHH = np.angle(em.HH)\n",
    "    ϕHV = np.angle(em.HV)\n",
    "    \n",
    "    # ellipse phase\n",
    "    ϕ = ϕHH-ϕHV\n",
    "    ϕ[ϕ<-np.pi] += 2.*np.pi\n",
    "    ϕ[ϕ>np.pi] -= 2.*np.pi\n",
    "\n",
    "    # get vectors from wave amplitude and ellipse phase\n",
    "    S1 = E0x**2. - E0y**2.\n",
    "    S2 = 2.*E0x*E0y*np.cos(ϕ)\n",
    "    S3 = 2.*E0x*E0y*np.sin(ϕ)\n",
    "    \n",
    "    return S1,S2,S3"
   ]
  },
  {
   "cell_type": "code",
   "execution_count": null,
   "id": "5a56fb81-5508-4f24-9f74-9c1f37f13546",
   "metadata": {
    "tags": []
   },
   "outputs": [],
   "source": [
    "# Initialize the model at a chosen center frequency\n",
    "em = effective_medium()\n",
    "em.system_setup(fc=300e6)\n",
    "\n",
    "# Set the material properties\n",
    "lams = [0.,.1,0.9]\n",
    "em.ice_properties(T=253.,epsr=3.15,lam=lams)\n",
    "\n",
    "# Set the domain\n",
    "dphidz = (4.*np.pi*em.fc/em.c)*(em.depsr*(lams[1]-lams[0])/(2.*np.sqrt(em.epsr)))\n",
    "H = 2.*np.pi/dphidz\n",
    "zs = np.arange(.1,H)\n",
    "\n",
    "# Solve model for all layers\n",
    "em.solve(zs,H,0.,0.001,lams)\n",
    "\n",
    "# Rotate model result to all azimuths for a 2-d image\n",
    "rotational_transform(em,n_thetas=401)\n",
    "\n",
    "# Calculate HH-VV phase coherence\n",
    "coherence(em)\n",
    "\n",
    "# Save the model class to distinguish between others\n",
    "em1 = em"
   ]
  },
  {
   "cell_type": "code",
   "execution_count": null,
   "id": "37fac305-643d-4bc0-8fac-5b1b83828a42",
   "metadata": {
    "tags": []
   },
   "outputs": [],
   "source": [
    "# Initialize the model at a chosen center frequency\n",
    "em = effective_medium()\n",
    "em.system_setup(fc=300e6)\n",
    "\n",
    "# Set the material properties\n",
    "em.ice_properties(T=253.,epsr=3.15,lam=[.333,.333,.333])\n",
    "\n",
    "# Set the domain\n",
    "H = 1000\n",
    "zs = np.arange(10,H)\n",
    "gammas = np.array([1,.2])\n",
    "\n",
    "# Solve model for all layers\n",
    "em.solve(zs,H,0.,0.0,lams,gammas=gammas)\n",
    "\n",
    "# Rotate model result to all azimuths for a 2-d image\n",
    "rotational_transform(em,n_thetas=401)\n",
    "\n",
    "# Calculate HH-VV phase coherence\n",
    "coherence(em)\n",
    "\n",
    "em2 = em"
   ]
  },
  {
   "cell_type": "code",
   "execution_count": null,
   "id": "811356f4-8640-4126-a315-32a1914d55c9",
   "metadata": {
    "tags": []
   },
   "outputs": [],
   "source": [
    "# Initialize the model at a chosen center frequency\n",
    "em = effective_medium()\n",
    "em.system_setup(fc=300e6)\n",
    "\n",
    "# Set the material properties\n",
    "lams = [.15,.35,0.5]\n",
    "em.ice_properties(T=253.,epsr=3.15,lam=lams)\n",
    "\n",
    "# Set the domain\n",
    "dphidz = (4.*np.pi*em.fc/em.c)*(em.depsr*(lams[1]-lams[0])/(2.*np.sqrt(em.epsr)))\n",
    "H = 2.*np.pi/dphidz\n",
    "zs = np.arange(.1,H)\n",
    "gammas = np.array([1.,.2])\n",
    "\n",
    "# Solve model for all layers\n",
    "em.solve(zs,H,0.,0.,lams,gammas=gammas)\n",
    "\n",
    "# Rotate model result to all azimuths for a 2-d image\n",
    "rotational_transform(em,n_thetas=401)\n",
    "\n",
    "# Calculate HH-VV phase coherence\n",
    "coherence(em)\n",
    "\n",
    "em3 = em"
   ]
  },
  {
   "cell_type": "code",
   "execution_count": null,
   "id": "d620ac86-e3cb-42f1-9fd8-2c4ea9ce1a16",
   "metadata": {
    "tags": []
   },
   "outputs": [],
   "source": [
    "# Plot each of the model results on the Poincare Sphere\n",
    "\n",
    "plt.figure(figsize=(12,4))\n",
    "ax1 = plt.subplot(131,projection='3d')\n",
    "ax1.axis('off')\n",
    "ax2 = plt.subplot(132,projection='3d')\n",
    "ax2.axis('off')\n",
    "ax3 = plt.subplot(133,projection='3d')\n",
    "ax3.axis('off')\n",
    "\n",
    "# Create a meshgrid for reference on the Poincare Sphere\n",
    "u, v = np.mgrid[0:2*np.pi+.01:np.pi/10, 0:np.pi:25j]\n",
    "x = np.cos(u)*np.sin(v)\n",
    "y = np.sin(u)*np.sin(v)\n",
    "z = np.cos(v)\n",
    "# Plot the grid in all three subplots\n",
    "ax1.plot_wireframe(y, z, x, color=\"k\", alpha=0.025)\n",
    "ax2.plot_wireframe(y, z, x, color=\"k\", alpha=0.025)\n",
    "ax3.plot_wireframe(y, z, x, color=\"k\", alpha=0.025)\n",
    "\n",
    "# For all three model results (one in each subplot)\n",
    "ems = [em1,em2,em2]\n",
    "axs = [ax1,ax2,ax3]\n",
    "S1, S2, S3 = get_poincare_sphere(em1)\n",
    "for i in range(0,len(S1[0])//2+2,20):\n",
    "    ax1.plot(S2[:,i],-S1[:,i],S3[:,i],lw=2,c=cm.twilight_shifted(i/200))\n",
    "S1, S2, S3 = get_poincare_sphere(em2)\n",
    "for i in range(0,len(S1[0]),20):\n",
    "    ax2.plot(S2[0,i],-S1[0,i],S3[0,i],'.',ms=3.5,c=cm.twilight_shifted(i/400))\n",
    "S1, S2, S3 = get_poincare_sphere(em3)\n",
    "for i in range(len(S1[0])-1,-1,-20):\n",
    "    ax3.plot(S2[:,i],-S1[:,i],S3[:,i],lw=2,c=cm.twilight_shifted(i/400))\n",
    "ax3.plot(S2[0,400],-S1[0,400],S3[0,400],'.',c=cm.twilight_shifted(.5))\n",
    "ax3.plot(S2[0,0],-S1[0,0],S3[0,0],'.',c=cm.twilight_shifted(1.))\n",
    "\n",
    "ax1.axis('equal')\n",
    "ax2.axis('equal')\n",
    "ax3.axis('equal')"
   ]
  },
  {
   "cell_type": "code",
   "execution_count": null,
   "id": "a400430c-94d4-4029-90be-7efc97b54d4a",
   "metadata": {
    "tags": []
   },
   "outputs": [],
   "source": [
    "# Model the case with a COF rotation at depth\n",
    "\n",
    "# Initialize the model at a chosen center frequency\n",
    "em = effective_medium()\n",
    "em.system_setup(fc=300e6)\n",
    "\n",
    "# Set the material properties\n",
    "lams = [.15,.35,0.5]\n",
    "em.ice_properties(T=253.,epsr=3.15,lam=lams)\n",
    "\n",
    "# Set the domain\n",
    "dphidz = (4.*np.pi*em.fc/em.c)*(em.depsr*(lams[1]-lams[0])/(2.*np.sqrt(em.epsr)))\n",
    "H = 8.*np.pi/dphidz\n",
    "layer_dz = 2.\n",
    "zs = np.arange(1,H,layer_dz)\n",
    "dzs = layer_dz*np.ones(len(zs))\n",
    "thetas = np.zeros(len(zs))\n",
    "lams = np.tile(lams,(len(zs),1))\n",
    "\n",
    "# Azimuthal rotation of the COF at depth 200 m\n",
    "psis = .01+np.zeros_like(zs)\n",
    "psis[zs>350] = .6\n",
    "\n",
    "# Solve model for all layers\n",
    "em.solve(zs,dzs,thetas,psis,lams)\n",
    "\n",
    "# Rotate model result to all azimuths for a 2-d image\n",
    "rotational_transform(em,n_thetas=401)\n",
    "\n",
    "# Calculate HH-VV phase coherence\n",
    "coherence(em)"
   ]
  },
  {
   "cell_type": "code",
   "execution_count": null,
   "id": "d57a3b0a-ece2-4305-9476-b45e24df2a28",
   "metadata": {
    "tags": []
   },
   "outputs": [],
   "source": [
    "# Plot the rotated model scenario on the Poincare Sphere\n",
    "\n",
    "plt.figure(figsize=(12,4))\n",
    "ax1 = plt.subplot(131,projection='3d')\n",
    "ax1.axis('off')\n",
    "ax2 = plt.subplot(132,projection='3d')\n",
    "ax2.axis('off')\n",
    "ax3 = plt.subplot(133,projection='3d')\n",
    "ax3.axis('off')\n",
    "\n",
    "ax1.plot_wireframe(y, z, x, color=\"k\", alpha=0.025)\n",
    "ax2.plot_wireframe(y, z, x, color=\"k\", alpha=0.025)\n",
    "ax3.plot_wireframe(y, z, x, color=\"k\", alpha=0.025)\n",
    "\n",
    "S1, S2, S3 = get_poincare_sphere(em)\n",
    "di = 175\n",
    "ai = 70\n",
    "ax1.plot(S2[:di,ai],-S1[:di,ai],S3[:di,ai],lw=2,c=cm.twilight_shifted(ai/200))\n",
    "ax1.plot(S2[di:,ai],-S1[di:,ai],S3[di:,ai],lw=2,c='grey')\n",
    "ax1.plot(S2[di,ai],-S1[di,ai],S3[di,ai],'.',ms=10,mew=2,mfc='w',c='grey')\n",
    "ai = 110\n",
    "ax2.plot(S2[:di,ai],-S1[:di,ai],S3[:di,ai],lw=2,c=cm.twilight_shifted(ai/200))\n",
    "ax2.plot(S2[di:,ai],-S1[di:,ai],S3[di:,ai],lw=2,c='grey')\n",
    "ax2.plot(S2[di,ai],-S1[di,ai],S3[di,ai],'.',ms=10,mew=2,mfc='w',c='grey')\n",
    "ai = 130\n",
    "ax3.plot(S2[:di,ai],-S1[:di,ai],S3[:di,ai],lw=2,c=cm.twilight_shifted(ai/200))\n",
    "ax3.plot(S2[di:,ai],-S1[di:,ai],S3[di:,ai],lw=2,c='grey')\n",
    "ax3.plot(S2[di,ai],-S1[di,ai],S3[di,ai],'.',ms=10,mew=2,mfc='w',c='grey')\n",
    "\n",
    "ax1.axis('equal')\n",
    "ax2.axis('equal')\n",
    "ax3.axis('equal')"
   ]
  }
 ],
 "metadata": {
  "kernelspec": {
   "display_name": "Python 3 (ipykernel)",
   "language": "python",
   "name": "python3"
  },
  "language_info": {
   "codemirror_mode": {
    "name": "ipython",
    "version": 3
   },
   "file_extension": ".py",
   "mimetype": "text/x-python",
   "name": "python",
   "nbconvert_exporter": "python",
   "pygments_lexer": "ipython3",
   "version": "3.8.16"
  },
  "widgets": {
   "application/vnd.jupyter.widget-state+json": {
    "state": {},
    "version_major": 2,
    "version_minor": 0
   }
  }
 },
 "nbformat": 4,
 "nbformat_minor": 5
}
