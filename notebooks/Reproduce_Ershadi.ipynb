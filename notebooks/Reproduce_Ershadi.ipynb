{
 "cells": [
  {
   "cell_type": "markdown",
   "id": "0f106385-d28b-455e-8ec7-cf3d0134ebda",
   "metadata": {},
   "source": [
    "## Reproduce Ershadi (2021)"
   ]
  },
  {
   "cell_type": "code",
   "execution_count": null,
   "id": "658b1c92-bde9-461e-baff-b55b61d20800",
   "metadata": {},
   "outputs": [],
   "source": [
    "# Standard imports\n",
    "import numpy as np\n",
    "import matplotlib.pyplot as plt\n",
    "%matplotlib inline\n",
    "\n",
    "# Effective medium model imports\n",
    "from effmed.lib.matrix_model import effective_medium\n",
    "from effmed.lib.supplemental import dB, rotational_transform, coherence, phase_gradient2d"
   ]
  },
  {
   "cell_type": "markdown",
   "id": "cfc9d161-a731-41bd-a697-23cef838b6c2",
   "metadata": {},
   "source": [
    "## Figure 3"
   ]
  },
  {
   "cell_type": "code",
   "execution_count": null,
   "id": "c7505767-c263-4e0a-b4e2-5202f97dd3ea",
   "metadata": {},
   "outputs": [],
   "source": [
    "# Initialize the model at a chosen center frequency\n",
    "em = effective_medium()\n",
    "em.system_setup(fc=300e6)\n",
    "\n",
    "# Set the material properties\n",
    "lams = [.5,0.,0.5]\n",
    "\n",
    "# Model domain (4000 m depth)\n",
    "zs = np.linspace(.01,4000,4000)\n",
    "\n",
    "# COF orientation relative to the instrument axes\n",
    "psis = np.array([45,45,45,45,135,135,120, 120])*np.pi/180. + .0001\n",
    "thetas = np.zeros(len(psis))\n",
    "layer_dzs = 500*np.ones(len(psis))\n",
    "\n",
    "# COF eigenvalues for all layers\n",
    "dlams = np.array([.025, 0.2, 0.2, 0.2, 0.2, 0.45, 0.2, 0.2])\n",
    "lams = np.empty((8,3))\n",
    "for i in range(8):\n",
    "    lams[i] = np.array([(.5-dlams[i])/2.,(.5+dlams[i])/2.,0.5])\n",
    "\n",
    "em.ice_properties(idctx='biaxial',epsr=3.15,theta=thetas[0],psi=psis[0],lam=lams[0])\n",
    "    \n",
    "# Anisotropic scattering for all layers\n",
    "gammaxs = 1e-12*np.ones_like(zs)\n",
    "gammays = 1e-12*np.ones_like(zs)\n",
    "gammays[zs>1000.] = 1e-11\n",
    "gammays[zs>1500.] = 1e-13\n",
    "gammays[zs>2500.] = 1e-14\n",
    "gammays[zs>3000.] = 1e-12\n",
    "gammas = np.transpose([gammaxs,gammays])\n",
    "\n",
    "# Rotation of the scattering interface\n",
    "psi_gammas = np.pi/4.*np.ones(len(zs))\n",
    "psi_gammas[zs>2000.] = 3.*np.pi/4.\n",
    "psi_gammas[zs>3000.] = 120*np.pi/180.\n",
    "\n",
    "# Solve model for all layers\n",
    "em.solve(zs,layer_dzs,thetas,psis,lams,gammas=gammas,psi_gammas=psi_gammas)\n",
    "\n",
    "# Rotate model result to all azimuths for a 2-d image\n",
    "rotational_transform(em,n_thetas=200)\n",
    "Θs,Ds = np.meshgrid(em.thetas,em.range)\n",
    "\n",
    "# Co-polarized phase coherence and gradient from the model result\n",
    "coherence(em)\n",
    "phase_gradient2d(em)"
   ]
  },
  {
   "cell_type": "code",
   "execution_count": null,
   "id": "56aaf90c-be59-4a8a-8a1a-f76aa2fd134c",
   "metadata": {
    "tags": []
   },
   "outputs": [],
   "source": [
    "plt.figure(figsize=(12, 9))\n",
    "\n",
    "plt.subplot(141)\n",
    "HH = np.real(dB(em.HH**2.))\n",
    "HH = np.transpose(HH) - np.mean(HH,axis=1)\n",
    "HH = np.transpose(HH)\n",
    "plt.contourf(Θs,Ds,HH,cmap='hot',levels=np.arange(-15,15,.1),vmin=-15,vmax=15,extend='both')\n",
    "plt.colorbar(label='Co-Polarized',location='top',ticks=np.arange(-15,16,5))\n",
    "plt.gca().invert_yaxis()\n",
    "plt.xlabel('Azimuth')\n",
    "plt.ylabel('Depth (m)')\n",
    "plt.xticks([0,np.pi/2.,np.pi])\n",
    "plt.gca().set_xticklabels(['0','π/2','π'])\n",
    "\n",
    "plt.subplot(143)\n",
    "plt.tick_params(labelleft=False)\n",
    "HV = np.real(dB(em.HV**2.))\n",
    "HV = np.transpose(HV) - np.mean(HV,axis=1)\n",
    "HV = np.transpose(HV)\n",
    "plt.contourf(Θs,Ds,HV,cmap='hot',levels=np.arange(-15,15,.1),vmin=-15,vmax=15,extend='both')\n",
    "plt.colorbar(label='Cross-Polarized',location='top',ticks=np.arange(-15,16,5))\n",
    "plt.gca().invert_yaxis()\n",
    "plt.xlabel('Azimuth (rad)')\n",
    "plt.xticks([0,np.pi/2.,np.pi])\n",
    "plt.gca().set_xticklabels(['0','π/2','π'])\n",
    "\n",
    "plt.subplot(142)\n",
    "plt.tick_params(labelleft=False)\n",
    "plt.contourf(Θs,Ds,np.angle(em.chhvv),cmap='twilight_shifted',levels=100,vmin=-np.pi,vmax=np.pi)\n",
    "cbar = plt.colorbar(label='$ϕ_{hhvv}$',location='top',ticks=np.array([-np.pi,0,np.pi]))\n",
    "cbar.set_ticklabels(['-π','0','π'])\n",
    "plt.gca().invert_yaxis()\n",
    "plt.xlabel('Azimuth')\n",
    "plt.xticks([0,np.pi/2.,np.pi])\n",
    "plt.gca().set_xticklabels(['0','π/2','π'])\n",
    "\n",
    "dϕ = em.dphi_dz.copy()\n",
    "clim = .05\n",
    "dϕ[dϕ>clim]=clim\n",
    "dϕ[dϕ<-clim]=-clim\n",
    "\n",
    "plt.subplot(144)\n",
    "plt.tick_params(labelleft=False)\n",
    "plt.contourf(Θs,Ds,dϕ,cmap='seismic',levels=100,vmin=-clim,vmax=clim,extend='both')\n",
    "plt.colorbar(label='$\\partial ϕ/\\partial z$',location='top',ticks=[-clim,0,clim])\n",
    "plt.gca().invert_yaxis()\n",
    "plt.xlabel('Azimuth')\n",
    "plt.xticks([0,np.pi/2.,np.pi])\n",
    "plt.gca().set_xticklabels(['0','π/2','π'])\n",
    "\n",
    "plt.tight_layout()"
   ]
  }
 ],
 "metadata": {
  "kernelspec": {
   "display_name": "Python 3 (ipykernel)",
   "language": "python",
   "name": "python3"
  },
  "language_info": {
   "codemirror_mode": {
    "name": "ipython",
    "version": 3
   },
   "file_extension": ".py",
   "mimetype": "text/x-python",
   "name": "python",
   "nbconvert_exporter": "python",
   "pygments_lexer": "ipython3",
   "version": "3.8.16"
  },
  "widgets": {
   "application/vnd.jupyter.widget-state+json": {
    "state": {},
    "version_major": 2,
    "version_minor": 0
   }
  }
 },
 "nbformat": 4,
 "nbformat_minor": 5
}
