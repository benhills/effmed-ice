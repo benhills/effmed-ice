{
 "cells": [
  {
   "cell_type": "markdown",
   "id": "0f106385-d28b-455e-8ec7-cf3d0134ebda",
   "metadata": {},
   "source": [
    "## Reproduce Fujita (2006)"
   ]
  },
  {
   "cell_type": "code",
   "execution_count": null,
   "id": "658b1c92-bde9-461e-baff-b55b61d20800",
   "metadata": {},
   "outputs": [],
   "source": [
    "import numpy as np\n",
    "import matplotlib.pyplot as plt\n",
    "%matplotlib notebook\n",
    "\n",
    "from effmed.lib.matrix_model import effective_medium\n",
    "from effmed.lib.supplemental import dB"
   ]
  },
  {
   "cell_type": "markdown",
   "id": "2343154f-a1cb-41f7-80d1-e2e26e784b3d",
   "metadata": {},
   "source": [
    "## Figure 5a"
   ]
  },
  {
   "cell_type": "code",
   "execution_count": null,
   "id": "a2e00bf0-1ec2-4ac3-b6b3-30b45fe47811",
   "metadata": {},
   "outputs": [],
   "source": [
    "# Initialize the model at a chosen center frequency\n",
    "em = effective_medium()\n",
    "fc = 179e6\n",
    "em.system_setup(fc)\n",
    "\n",
    "Temp = 253.\n",
    "epsr = 3.15\n",
    "em.epsr = epsr\n",
    "chis = [.3667,0.2666,0.3667]\n",
    "thetas=0.\n",
    "psis = 0.001\n",
    "em.ice_properties(idctx='vertical-girdle',T=Temp,epsr=epsr,chi=chis)\n",
    "\n",
    "H = 1646.\n",
    "dz = 1.\n",
    "zs = np.arange(1,H)\n",
    "layer_dz = H\n",
    "em.solve(zs,layer_dz,thetas,psis,chis)"
   ]
  },
  {
   "cell_type": "code",
   "execution_count": null,
   "id": "f3ca3ba8-b46f-47e3-89cf-1a36aee05e47",
   "metadata": {},
   "outputs": [],
   "source": [
    "from impdar.lib.ApresData.load_quadpol import load_quadpol_fujita\n",
    "dat = load_quadpol_fujita(em)\n",
    "dat.rotational_transform(n_thetas=50)\n",
    "Θs,Ds = np.meshgrid(dat.thetas,dat.range)\n",
    "\n",
    "%matplotlib inline\n",
    "plt.figure()\n",
    "\n",
    "plt.subplot(221)\n",
    "plt.pcolormesh(Θs,Ds,np.real(10.*np.log10(dat.HH**2.)),cmap='Greys_r',vmin=-20,vmax=0)\n",
    "plt.title('shh',fontweight='bold')\n",
    "plt.gca().invert_yaxis()\n",
    "plt.ylabel('Depth (m)')\n",
    "plt.xlabel('Rotation (rad)')\n",
    "\n",
    "plt.subplot(222)\n",
    "plt.pcolormesh(Θs,Ds,np.real(10.*np.log10(dat.HV**2.)),cmap='Greys_r',vmin=-20,vmax=0)\n",
    "plt.title('shv',fontweight='bold')\n",
    "plt.gca().invert_yaxis()\n",
    "plt.ylabel('Depth (m)')\n",
    "plt.xlabel('Rotation (rad)')\n",
    "\n",
    "plt.subplot(223)\n",
    "plt.pcolormesh(Θs,Ds,np.real(10.*np.log10(dat.VH**2.)),cmap='Greys_r',vmin=-20,vmax=0)\n",
    "plt.title('svh',fontweight='bold')\n",
    "plt.gca().invert_yaxis()\n",
    "plt.ylabel('Depth (m)')\n",
    "plt.xlabel('Rotation (rad)')\n",
    "\n",
    "plt.subplot(224)\n",
    "plt.pcolormesh(Θs,Ds,np.real(10.*np.log10(dat.VV**2.)),cmap='Greys_r',vmin=-20,vmax=0)\n",
    "plt.title('svv',fontweight='bold')\n",
    "plt.gca().invert_yaxis()\n",
    "plt.ylabel('Depth (m)')\n",
    "plt.xlabel('Rotation (rad)')\n",
    "\n",
    "plt.tight_layout()"
   ]
  },
  {
   "cell_type": "markdown",
   "id": "a1b17376-962d-4e03-bb3c-21c9a216ee55",
   "metadata": {},
   "source": [
    "## Figure 5b"
   ]
  },
  {
   "cell_type": "code",
   "execution_count": null,
   "id": "756f8a13-415a-4c57-8c9d-7f0e6b126990",
   "metadata": {},
   "outputs": [],
   "source": [
    "# Initialize the model at a chosen center frequency\n",
    "em = effective_medium()\n",
    "fc = 179e6\n",
    "em.system_setup(fc)\n",
    "\n",
    "Temp = 253.\n",
    "epsr = 3.15\n",
    "em.epsr = epsr\n",
    "chis = [.333,0.333,0.333]\n",
    "thetas=0.\n",
    "psis = 0.001\n",
    "em.ice_properties(idctx='vertical-girdle',T=Temp,epsr=epsr,chi=chis)\n",
    "\n",
    "H = 1646.\n",
    "dz = 1.\n",
    "zs = np.arange(1,H)\n",
    "layer_dz = H\n",
    "gammas = np.array([1.,.1])\n",
    "em.solve(zs,layer_dz,thetas,psis,chis,gammas=gammas)"
   ]
  },
  {
   "cell_type": "code",
   "execution_count": null,
   "id": "4342f4e1-dedd-4e5e-9967-8dcfb4f67998",
   "metadata": {},
   "outputs": [],
   "source": [
    "from impdar.lib.ApresData.load_quadpol import load_quadpol_fujita\n",
    "dat = load_quadpol_fujita(em)\n",
    "dat.rotational_transform(n_thetas=50)\n",
    "Θs,Ds = np.meshgrid(dat.thetas,dat.range)\n",
    "\n",
    "%matplotlib inline\n",
    "plt.figure()\n",
    "\n",
    "plt.subplot(221)\n",
    "plt.pcolormesh(Θs,Ds,np.real(10.*np.log10(dat.HH**2.)),cmap='Greys_r',vmin=-20,vmax=0)\n",
    "plt.title('shh',fontweight='bold')\n",
    "plt.gca().invert_yaxis()\n",
    "plt.ylabel('Depth (m)')\n",
    "plt.xlabel('Rotation (rad)')\n",
    "\n",
    "plt.subplot(222)\n",
    "plt.pcolormesh(Θs,Ds,np.real(10.*np.log10(dat.HV**2.)),cmap='Greys_r',vmin=-20,vmax=0)\n",
    "plt.title('shv',fontweight='bold')\n",
    "plt.gca().invert_yaxis()\n",
    "plt.ylabel('Depth (m)')\n",
    "plt.xlabel('Rotation (rad)')\n",
    "\n",
    "plt.subplot(223)\n",
    "plt.pcolormesh(Θs,Ds,np.real(10.*np.log10(dat.VH**2.)),cmap='Greys_r',vmin=-20,vmax=0)\n",
    "plt.title('svh',fontweight='bold')\n",
    "plt.gca().invert_yaxis()\n",
    "plt.ylabel('Depth (m)')\n",
    "plt.xlabel('Rotation (rad)')\n",
    "\n",
    "plt.subplot(224)\n",
    "plt.pcolormesh(Θs,Ds,np.real(10.*np.log10(dat.VV**2.)),cmap='Greys_r',vmin=-20,vmax=0)\n",
    "plt.title('svv',fontweight='bold')\n",
    "plt.gca().invert_yaxis()\n",
    "plt.ylabel('Depth (m)')\n",
    "plt.xlabel('Rotation (rad)')\n",
    "\n",
    "plt.tight_layout()"
   ]
  },
  {
   "cell_type": "markdown",
   "id": "f3ffa7d8-ff8c-45cb-8815-ee80f7310dc5",
   "metadata": {},
   "source": [
    "## Figure 5c"
   ]
  },
  {
   "cell_type": "code",
   "execution_count": null,
   "id": "fcff9bc0-5997-483b-b562-3af1cb2e6063",
   "metadata": {},
   "outputs": [],
   "source": [
    "# Initialize the model at a chosen center frequency\n",
    "em = effective_medium()\n",
    "fc = 179e6\n",
    "em.system_setup(fc)\n",
    "\n",
    "Temp = 253.\n",
    "epsr = 3.15\n",
    "em.epsr = epsr\n",
    "chis = [.3667,0.2666,0.3667]\n",
    "thetas=0.\n",
    "psis = 0.001\n",
    "em.ice_properties(idctx='vertical-girdle',T=Temp,epsr=epsr,chi=chis)\n",
    "\n",
    "H = 1646.\n",
    "dz = 1.\n",
    "zs = np.arange(1,H)\n",
    "layer_dz = H\n",
    "gammas = np.array([1.,.1])\n",
    "em.solve(zs,layer_dz,thetas,psis,chis,gammas=gammas)"
   ]
  },
  {
   "cell_type": "code",
   "execution_count": null,
   "id": "062ee90d-1b9a-4aa1-baa7-068593f186e0",
   "metadata": {
    "tags": []
   },
   "outputs": [],
   "source": [
    "from impdar.lib.ApresData.load_quadpol import load_quadpol_fujita\n",
    "dat = load_quadpol_fujita(em)\n",
    "dat.rotational_transform(n_thetas=50)\n",
    "Θs,Ds = np.meshgrid(dat.thetas,dat.range)\n",
    "\n",
    "%matplotlib inline\n",
    "plt.figure()\n",
    "\n",
    "plt.subplot(221)\n",
    "plt.pcolormesh(Θs,Ds,np.real(10.*np.log10(dat.HH**2.)),cmap='Greys_r',vmin=-20,vmax=0)\n",
    "plt.title('shh',fontweight='bold')\n",
    "plt.gca().invert_yaxis()\n",
    "plt.ylabel('Depth (m)')\n",
    "plt.xlabel('Rotation (rad)')\n",
    "\n",
    "plt.subplot(222)\n",
    "plt.pcolormesh(Θs,Ds,np.real(10.*np.log10(dat.HV**2.)),cmap='Greys_r',vmin=-20,vmax=0)\n",
    "plt.title('shv',fontweight='bold')\n",
    "plt.gca().invert_yaxis()\n",
    "plt.ylabel('Depth (m)')\n",
    "plt.xlabel('Rotation (rad)')\n",
    "\n",
    "plt.subplot(223)\n",
    "plt.pcolormesh(Θs,Ds,np.real(10.*np.log10(dat.VH**2.)),cmap='Greys_r',vmin=-20,vmax=0)\n",
    "plt.title('svh',fontweight='bold')\n",
    "plt.gca().invert_yaxis()\n",
    "plt.ylabel('Depth (m)')\n",
    "plt.xlabel('Rotation (rad)')\n",
    "\n",
    "plt.subplot(224)\n",
    "plt.pcolormesh(Θs,Ds,np.real(10.*np.log10(dat.VV**2.)),cmap='Greys_r',vmin=-20,vmax=0)\n",
    "plt.title('svv',fontweight='bold')\n",
    "plt.gca().invert_yaxis()\n",
    "plt.ylabel('Depth (m)')\n",
    "plt.xlabel('Rotation (rad)')\n",
    "\n",
    "plt.tight_layout()"
   ]
  }
 ],
 "metadata": {
  "kernelspec": {
   "display_name": "Python 3 (ipykernel)",
   "language": "python",
   "name": "python3"
  },
  "language_info": {
   "codemirror_mode": {
    "name": "ipython",
    "version": 3
   },
   "file_extension": ".py",
   "mimetype": "text/x-python",
   "name": "python",
   "nbconvert_exporter": "python",
   "pygments_lexer": "ipython3",
   "version": "3.8.16"
  },
  "widgets": {
   "application/vnd.jupyter.widget-state+json": {
    "state": {},
    "version_major": 2,
    "version_minor": 0
   }
  }
 },
 "nbformat": 4,
 "nbformat_minor": 5
}
