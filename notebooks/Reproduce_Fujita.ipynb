{
 "cells": [
  {
   "cell_type": "markdown",
   "id": "0f106385-d28b-455e-8ec7-cf3d0134ebda",
   "metadata": {},
   "source": [
    "## Reproduce Fujita (2006)"
   ]
  },
  {
   "cell_type": "code",
   "execution_count": null,
   "id": "658b1c92-bde9-461e-baff-b55b61d20800",
   "metadata": {},
   "outputs": [],
   "source": [
    "# Standard imports\n",
    "import numpy as np\n",
    "import matplotlib.pyplot as plt\n",
    "%matplotlib inline\n",
    "\n",
    "# Effective medium model imports\n",
    "from effmed.lib.matrix_model import effective_medium\n",
    "from effmed.lib.supplemental import dB, rotational_transform"
   ]
  },
  {
   "cell_type": "markdown",
   "id": "2343154f-a1cb-41f7-80d1-e2e26e784b3d",
   "metadata": {},
   "source": [
    "## Figure 5a"
   ]
  },
  {
   "cell_type": "code",
   "execution_count": null,
   "id": "a2e00bf0-1ec2-4ac3-b6b3-30b45fe47811",
   "metadata": {},
   "outputs": [],
   "source": [
    "# Initialize the model at a chosen center frequency\n",
    "em = effective_medium()\n",
    "em.system_setup(fc=179e6)\n",
    "\n",
    "# Set the material properties\n",
    "Temp = 253.                       # Ice temperature\n",
    "em.epsr = 3.15                    # Permittivity (real)\n",
    "lams = [0.2666, 0.3667, 0.3667]   # COF Eigenvalues\n",
    "thetas=0.                         # Polar angle\n",
    "psis = 0.001                      # Azimuthal angle (instrument offset from COF)\n",
    "\n",
    "em.ice_properties(idctx='biaxial',T=Temp,epsr=em.epsr,lam=lams)\n",
    "\n",
    "# Set the domain\n",
    "H = 1646.      # Ice thickness\n",
    "dz = 1.        # Step size\n",
    "zs = np.arange(1,H)\n",
    "layer_dz = H   # Only a single COF layer\n",
    "\n",
    "# Solve model for all layers\n",
    "em.solve(zs,layer_dz,thetas,psis,lams)\n",
    "\n",
    "# Rotate model result to all azimuths for a 2-d image\n",
    "rotational_transform(em,n_thetas=50)\n",
    "Θs,Ds = np.meshgrid(em.thetas,em.range)"
   ]
  },
  {
   "cell_type": "code",
   "execution_count": null,
   "id": "f3ca3ba8-b46f-47e3-89cf-1a36aee05e47",
   "metadata": {},
   "outputs": [],
   "source": [
    "# Replot result from Figure 5a in Fujita (2006)\n",
    "plt.figure()\n",
    "\n",
    "plt.subplot(221)\n",
    "plt.pcolormesh(Θs,Ds,np.real(10.*np.log10(em.HH**2.)),cmap='Greys_r',vmin=-20,vmax=0)\n",
    "plt.title('shh',fontweight='bold')\n",
    "plt.gca().invert_yaxis()\n",
    "plt.ylabel('Depth (m)')\n",
    "plt.xlabel('Rotation (rad)')\n",
    "\n",
    "plt.subplot(222)\n",
    "plt.pcolormesh(Θs,Ds,np.real(10.*np.log10(em.HV**2.)),cmap='Greys_r',vmin=-20,vmax=0)\n",
    "plt.title('shv',fontweight='bold')\n",
    "plt.gca().invert_yaxis()\n",
    "plt.ylabel('Depth (m)')\n",
    "plt.xlabel('Rotation (rad)')\n",
    "\n",
    "plt.subplot(223)\n",
    "plt.pcolormesh(Θs,Ds,np.real(10.*np.log10(em.VH**2.)),cmap='Greys_r',vmin=-20,vmax=0)\n",
    "plt.title('svh',fontweight='bold')\n",
    "plt.gca().invert_yaxis()\n",
    "plt.ylabel('Depth (m)')\n",
    "plt.xlabel('Rotation (rad)')\n",
    "\n",
    "plt.subplot(224)\n",
    "plt.pcolormesh(Θs,Ds,np.real(10.*np.log10(em.VV**2.)),cmap='Greys_r',vmin=-20,vmax=0)\n",
    "plt.title('svv',fontweight='bold')\n",
    "plt.gca().invert_yaxis()\n",
    "plt.ylabel('Depth (m)')\n",
    "plt.xlabel('Rotation (rad)')\n",
    "\n",
    "plt.tight_layout()"
   ]
  },
  {
   "cell_type": "markdown",
   "id": "a1b17376-962d-4e03-bb3c-21c9a216ee55",
   "metadata": {},
   "source": [
    "## Figure 5b"
   ]
  },
  {
   "cell_type": "code",
   "execution_count": null,
   "id": "756f8a13-415a-4c57-8c9d-7f0e6b126990",
   "metadata": {},
   "outputs": [],
   "source": [
    "# Model setup and run (similar to above but with no birefringence, only anisotropic scattering)\n",
    "em = effective_medium()\n",
    "em.system_setup(fc=179e6)\n",
    "\n",
    "# Set the material properties\n",
    "Temp = 253.\n",
    "em.epsr = 3.15\n",
    "lams = [0.333,0.333,0.333]   # no birefringence\n",
    "thetas=0.\n",
    "psis = 0.001\n",
    "em.ice_properties(idctx='biaxial',T=Temp,epsr=em.epsr,lam=lams)\n",
    "\n",
    "# Set the domain\n",
    "H = 1646.\n",
    "dz = 1.\n",
    "zs = np.arange(1,H)\n",
    "layer_dz = H\n",
    "\n",
    "# Set anisotropic reflectivity\n",
    "gammas = np.array([1.,.1])\n",
    "\n",
    "# Solve model for all layers\n",
    "em.solve(zs,layer_dz,thetas,psis,lams,gammas=gammas)\n",
    "\n",
    "# Rotate model result to all azimuths for a 2-d image\n",
    "rotational_transform(em,n_thetas=50)\n",
    "Θs,Ds = np.meshgrid(em.thetas,em.range)"
   ]
  },
  {
   "cell_type": "code",
   "execution_count": null,
   "id": "4342f4e1-dedd-4e5e-9967-8dcfb4f67998",
   "metadata": {},
   "outputs": [],
   "source": [
    "plt.figure()\n",
    "\n",
    "plt.subplot(221)\n",
    "plt.pcolormesh(Θs,Ds,np.real(10.*np.log10(em.HH**2.)),cmap='Greys_r',vmin=-20,vmax=0)\n",
    "plt.title('shh',fontweight='bold')\n",
    "plt.gca().invert_yaxis()\n",
    "plt.ylabel('Depth (m)')\n",
    "plt.xlabel('Rotation (rad)')\n",
    "\n",
    "plt.subplot(222)\n",
    "plt.pcolormesh(Θs,Ds,np.real(10.*np.log10(em.HV**2.)),cmap='Greys_r',vmin=-20,vmax=0)\n",
    "plt.title('shv',fontweight='bold')\n",
    "plt.gca().invert_yaxis()\n",
    "plt.ylabel('Depth (m)')\n",
    "plt.xlabel('Rotation (rad)')\n",
    "\n",
    "plt.subplot(223)\n",
    "plt.pcolormesh(Θs,Ds,np.real(10.*np.log10(em.VH**2.)),cmap='Greys_r',vmin=-20,vmax=0)\n",
    "plt.title('svh',fontweight='bold')\n",
    "plt.gca().invert_yaxis()\n",
    "plt.ylabel('Depth (m)')\n",
    "plt.xlabel('Rotation (rad)')\n",
    "\n",
    "plt.subplot(224)\n",
    "plt.pcolormesh(Θs,Ds,np.real(10.*np.log10(em.VV**2.)),cmap='Greys_r',vmin=-20,vmax=0)\n",
    "plt.title('svv',fontweight='bold')\n",
    "plt.gca().invert_yaxis()\n",
    "plt.ylabel('Depth (m)')\n",
    "plt.xlabel('Rotation (rad)')\n",
    "\n",
    "plt.tight_layout()"
   ]
  },
  {
   "cell_type": "markdown",
   "id": "f3ffa7d8-ff8c-45cb-8815-ee80f7310dc5",
   "metadata": {},
   "source": [
    "## Figure 5c"
   ]
  },
  {
   "cell_type": "code",
   "execution_count": null,
   "id": "fcff9bc0-5997-483b-b562-3af1cb2e6063",
   "metadata": {},
   "outputs": [],
   "source": [
    "# Model setup and run (similar to above, now with birefringence *and* anisotropic scattering)\n",
    "em = effective_medium()\n",
    "em.system_setup(fc=179e6)\n",
    "\n",
    "# Set the material properties\n",
    "Temp = 253.\n",
    "em.epsr = 3.15\n",
    "lams = [0.2666, 0.3667, 0.3667]\n",
    "thetas=0.\n",
    "psis = 0.001\n",
    "em.ice_properties(idctx='biaxial',T=Temp,epsr=em.epsr,lam=lams)\n",
    "\n",
    "# Set the domain\n",
    "H = 1646.\n",
    "dz = 1.\n",
    "zs = np.arange(1,H)\n",
    "layer_dz = H\n",
    "gammas = np.array([1.,.1])\n",
    "\n",
    "# Solve model for all layers\n",
    "em.solve(zs,layer_dz,thetas,psis,lams,gammas=gammas)\n",
    "\n",
    "# Rotate model result to all azimuths for a 2-d image\n",
    "rotational_transform(em,n_thetas=50)\n",
    "Θs,Ds = np.meshgrid(em.thetas,em.range)"
   ]
  },
  {
   "cell_type": "code",
   "execution_count": null,
   "id": "062ee90d-1b9a-4aa1-baa7-068593f186e0",
   "metadata": {
    "tags": []
   },
   "outputs": [],
   "source": [
    "plt.figure()\n",
    "\n",
    "plt.subplot(221)\n",
    "plt.pcolormesh(Θs,Ds,np.real(10.*np.log10(em.HH**2.)),cmap='Greys_r',vmin=-20,vmax=0)\n",
    "plt.title('shh',fontweight='bold')\n",
    "plt.gca().invert_yaxis()\n",
    "plt.ylabel('Depth (m)')\n",
    "plt.xlabel('Rotation (rad)')\n",
    "\n",
    "plt.subplot(222)\n",
    "plt.pcolormesh(Θs,Ds,np.real(10.*np.log10(em.HV**2.)),cmap='Greys_r',vmin=-20,vmax=0)\n",
    "plt.title('shv',fontweight='bold')\n",
    "plt.gca().invert_yaxis()\n",
    "plt.ylabel('Depth (m)')\n",
    "plt.xlabel('Rotation (rad)')\n",
    "\n",
    "plt.subplot(223)\n",
    "plt.pcolormesh(Θs,Ds,np.real(10.*np.log10(em.VH**2.)),cmap='Greys_r',vmin=-20,vmax=0)\n",
    "plt.title('svh',fontweight='bold')\n",
    "plt.gca().invert_yaxis()\n",
    "plt.ylabel('Depth (m)')\n",
    "plt.xlabel('Rotation (rad)')\n",
    "\n",
    "plt.subplot(224)\n",
    "plt.pcolormesh(Θs,Ds,np.real(10.*np.log10(em.VV**2.)),cmap='Greys_r',vmin=-20,vmax=0)\n",
    "plt.title('svv',fontweight='bold')\n",
    "plt.gca().invert_yaxis()\n",
    "plt.ylabel('Depth (m)')\n",
    "plt.xlabel('Rotation (rad)')\n",
    "\n",
    "plt.tight_layout()"
   ]
  }
 ],
 "metadata": {
  "kernelspec": {
   "display_name": "Python 3 (ipykernel)",
   "language": "python",
   "name": "python3"
  },
  "language_info": {
   "codemirror_mode": {
    "name": "ipython",
    "version": 3
   },
   "file_extension": ".py",
   "mimetype": "text/x-python",
   "name": "python",
   "nbconvert_exporter": "python",
   "pygments_lexer": "ipython3",
   "version": "3.8.16"
  },
  "widgets": {
   "application/vnd.jupyter.widget-state+json": {
    "state": {},
    "version_major": 2,
    "version_minor": 0
   }
  }
 },
 "nbformat": 4,
 "nbformat_minor": 5
}
